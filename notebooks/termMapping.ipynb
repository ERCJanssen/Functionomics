{
 "cells": [
  {
   "cell_type": "code",
   "execution_count": 1,
   "metadata": {},
   "outputs": [],
   "source": [
    "import requests\n",
    "\n",
    "endpoint = \"http://graphdb:7200/repositories/data/statements\" \n",
    "\n",
    "def addMapping(localTerm, targetClass, superClass, dataType):\n",
    "    query = \"\"\"\n",
    "        PREFIX owl: <http://www.w3.org/2002/07/owl#>\n",
    "        PREFIX rdf: <http://www.w3.org/1999/02/22-rdf-syntax-ns#>\n",
    "        PREFIX xsd: <http://www.w3.org/2001/XMLSchema#>\n",
    "        PREFIX ICF: <https://www.who.int/icf#>\n",
    "        PREFIX SCTID: <http://snomed.info/sct/>\n",
    "        PREFIX lsf: <https://github.com/ERCJanssen/FunctionomicsOntology/Functionomics_18022021.owl.owl#>\n",
    "        INSERT {\n",
    "            GRAPH <http://annotation.local/> {\n",
    "                ?term owl:equivalentClass [\n",
    "                    rdf:type owl:Class;\n",
    "                    owl:intersectionOf [\n",
    "                        rdf:first ?superClass;\n",
    "                        rdf:rest [\n",
    "                            rdf:first [\n",
    "                                rdf:type owl:Class;\n",
    "                                owl:unionOf [\n",
    "                                    rdf:first [\n",
    "                                        rdf:type owl:Restriction;\n",
    "                                        owl:hasValue ?localValue;\n",
    "                                        owl:onProperty LSF:has_value;\n",
    "                                    ];\n",
    "                                    rdf:rest rdf:nil;\n",
    "                                ]\n",
    "                            ];\n",
    "                            rdf:rest rdf:nil;\n",
    "                        ]\n",
    "                    ]\n",
    "                ].\n",
    "            }\n",
    "        } WHERE { \n",
    "            BIND(%s AS ?term).\n",
    "            BIND(%s AS ?superClass).\n",
    "            BIND(%s(\"%s\") AS ?localValue).  \n",
    "        }\n",
    "        \"\"\" % (targetClass, superClass, dataType, localTerm)\n",
    "\n",
    "    annotationResponse = requests.post(endpoint,\n",
    "    data=\"update=\"+query, \n",
    "    headers={\n",
    "        \"Content-Type\": \"application/x-www-form-urlencoded\"\n",
    "    })\n",
    "    print(annotationResponse.status_code)"
   ]
  },
  {
   "cell_type": "code",
   "execution_count": 2,
   "metadata": {},
   "outputs": [
    {
     "name": "stdout",
     "output_type": "stream",
     "text": [
      "204\n",
      "204\n"
     ]
    }
   ],
   "source": [
    "#SEX\n",
    "addMapping(\"0\", \"lsf:Feminnine_gender\", \"lsf:Gender_finding\", \"xsd:integer\")\n",
    "addMapping(\"1\", \"lsf:Masculine_gender\", \"lsf:Gender_finding\", \"xsd:integer\")\n",
    "\n",
    "#ASA class\n",
    "#addMapping(\"0\", \"SCTID:413495001\", \"LSF:ASA_1\", \"xsd:interger\") #even checen in ontology\n",
    "#addMapping(\"1\", \"SCTID:413496000\", \"LSF:ASA_2\", \"xsd:interger\")\n",
    "#addMapping(\"2\", \"SCTID:413497009\", \"LSF:ASA_3\",\"xsd:interger\")\n",
    "\n",
    "#DisorderOfTheBack\n",
    "#addMapping(\"0\", \"SCTID:202725007\", LSF:\"xsd:interger\")\n",
    "#addMapping(\"1\", \"SCTID:443700006\", \"xsd:interger\")\n",
    "#addMapping(\"2\", \"SCTID:32117100119102\", \"xsd:interger\")\n",
    "\n",
    "#POSTOP_COMPL\n",
    "#addMapping(\"0\", \"LSF:no_complication\", \"xsd:interger\")\n",
    "#addMapping(\"1\", \"LSF:complication\", \"xsd:interger\")\n",
    "\n",
    "#Procedure\n",
    "#addMapping(\"0\", \"SCTID:277764006\", \"xsd:interger\")\n",
    "#addMapping(\"1\", \"SCTID:10420000\", \"xsd:interger\")\n",
    "#addMapping(\"2\", \"LSF:spondylodese\", \"xsd:interger\")"
   ]
  },
  {
   "cell_type": "code",
   "execution_count": null,
   "metadata": {},
   "outputs": [],
   "source": []
  }
 ],
 "metadata": {
  "kernelspec": {
   "display_name": "Python 2",
   "language": "python",
   "name": "python2"
  },
  "language_info": {
   "codemirror_mode": {
    "name": "ipython",
    "version": 2
   },
   "file_extension": ".py",
   "mimetype": "text/x-python",
   "name": "python",
   "nbconvert_exporter": "python",
   "pygments_lexer": "ipython2",
   "version": "2.7.17"
  }
 },
 "nbformat": 4,
 "nbformat_minor": 2
}
