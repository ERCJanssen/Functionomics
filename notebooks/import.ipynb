{
 "cells": [
  {
   "cell_type": "markdown",
   "metadata": {},
   "source": [
    "# Data import\n",
    "\n",
    "Run the steps below to import the `dummy_set.csv` file into the postgres database.\n"
   ]
  },
  {
   "cell_type": "code",
   "execution_count": null,
   "metadata": {},
   "outputs": [],
   "source": [
    "import psycopg2\n",
    "from psycopg2.extensions import ISOLATION_LEVEL_AUTOCOMMIT\n",
    "import csv"
   ]
  },
  {
   "cell_type": "code",
   "execution_count": null,
   "metadata": {},
   "outputs": [],
   "source": [
    "import pandas\n",
    "# Connect to an existing database\n",
    "conn = psycopg2.connect(\"host=postgres user=postgres dbname=lsf password=postgres\")\n",
    "cur = conn.cursor()\n",
    "\n",
    "#open CSV file\n",
    "df = pandas.read_csv('data/dummy_set.csv', delimiter=\";\")\n",
    "for index, row in df.iterrows():\n",
    "    cur.execute(\"\"\"INSERT INTO lsf (study_id, n_levels_fused, surgery_type, surgery_date, diagnosis_cat, postop_compl, age, sex, asa, bmi, smoking, pain_duration, max_pain, odi, pcs, hads_angst, hads_depressie, pcs1, mcs1, finger_floor_disctance, motor_control, sorensen, medx_avr_diff_norm, steep_wrpeak_kg, discharge_date, los, milas_0, t1_max_pain, one_year_follow_up) \n",
    "        VALUES (%s, %s, %s, %s, %s, %s, %s, %s, %s, %s, %s, %s, %s, %s, %s, %s, %s, %s, %s, %s, %s, %s, %s, %s, %s, %s, %s, %s, %s)\"\"\",\n",
    "          (str(row[\"Study_id\"]), str(row[\"N_levels_fused\"]), str(row[\"Surgery_type\"]), str(row[\"Surgery_date\"]), str(row[\"Diagnosis_Cat\"]), str(row[\"Postop_compl\"]), str(row[\"Age\"]), str(row[\"Sex\"]), str(row[\"ASA\"]), str(row[\"BMI\"]), str(row[\"Smoking\"]), str(row[\"Pain_duration\"]), str(row[\"MAX_pain\"]), str(row[\"ODI\"]), str(row[\"PCS\"]), str(row[\"HADS_angst\"]), str(row[\"HADS_depressie\"]), str(row[\"PCS1\"]), str(row[\"MCS1\"]), str(row[\"Finger_floor_disctance\"]), str(row[\"Motor_control\"]), str(row[\"Sorensen\"]), str(row[\"Medx_avr_diff_norm\"]), str(row[\"Steep_WRpeak_kg\"]), str(row[\"Discharge_date\"]), str(row[\"LOS\"]), str(row[\"MILAS_0\"]), str(row[\"t1_max_pain\"]), str(row[\"One_year_follow_up\"])))\n",
    "conn.commit()"
   ]
  },
  {
   "cell_type": "markdown",
   "metadata": {},
   "source": [
    "## Check if data exists\n",
    "\n",
    "The code below checks whether the data inserted is actually available in the database"
   ]
  },
  {
   "cell_type": "code",
   "execution_count": null,
   "metadata": {},
   "outputs": [],
   "source": [
    "# Connect to an existing database\n",
    "conn = psycopg2.connect(\"host=postgres user=postgres dbname=lsf password=postgres\")\n",
    "cur = conn.cursor()\n",
    "\n",
    "cur.execute(\"\"\"SELECT *\n",
    "    FROM lsf;\"\"\")\n",
    "\n",
    "results = cur.fetchall()\n",
    "conn.close()\n",
    "\n",
    "for row in results:\n",
    "    print(row)"
   ]
  }
 ],
 "metadata": {
  "kernelspec": {
   "display_name": "Python 2",
   "language": "python",
   "name": "python2"
  },
  "language_info": {
   "codemirror_mode": {
    "name": "ipython",
    "version": 2
   },
   "file_extension": ".py",
   "mimetype": "text/x-python",
   "name": "python",
   "nbconvert_exporter": "python",
   "pygments_lexer": "ipython2",
   "version": "2.7.17"
  }
 },
 "nbformat": 4,
 "nbformat_minor": 2
}
